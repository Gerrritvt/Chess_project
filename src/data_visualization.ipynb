{
 "cells": [
  {
   "cell_type": "code",
   "execution_count": 1,
   "metadata": {},
   "outputs": [],
   "source": [
    "from datetime import datetime, timedelta\n",
    "import requests\n",
    "import lichess.api\n",
    "import math\n",
    "import re\n",
    "import pandas as pd\n",
    "from functions import opening_grades"
   ]
  },
  {
   "cell_type": "code",
   "execution_count": 4,
   "metadata": {},
   "outputs": [
    {
     "name": "stderr",
     "output_type": "stream",
     "text": [
      "C:\\Users\\gerri\\AppData\\Local\\Temp\\ipykernel_17144\\2391242178.py:8: FutureWarning: The default value of numeric_only in DataFrame.mean is deprecated. In a future version, it will default to False. In addition, specifying 'numeric_only=None' is deprecated. Select only valid columns or specify the value of numeric_only to silence this warning.\n",
      "  means.append(df[df['Opening'] == opening].mean().values[0])\n"
     ]
    },
    {
     "data": {
      "text/html": [
       "<div>\n",
       "<style scoped>\n",
       "    .dataframe tbody tr th:only-of-type {\n",
       "        vertical-align: middle;\n",
       "    }\n",
       "\n",
       "    .dataframe tbody tr th {\n",
       "        vertical-align: top;\n",
       "    }\n",
       "\n",
       "    .dataframe thead th {\n",
       "        text-align: right;\n",
       "    }\n",
       "</style>\n",
       "<table border=\"1\" class=\"dataframe\">\n",
       "  <thead>\n",
       "    <tr style=\"text-align: right;\">\n",
       "      <th></th>\n",
       "      <th>Opening</th>\n",
       "      <th>Grade</th>\n",
       "    </tr>\n",
       "  </thead>\n",
       "  <tbody>\n",
       "    <tr>\n",
       "      <th>Scandinavian Defense: Mieses-Kotroc Variation</th>\n",
       "      <td>5</td>\n",
       "      <td>10.000000</td>\n",
       "    </tr>\n",
       "    <tr>\n",
       "      <th>Italian Game: Giuoco Piano</th>\n",
       "      <td>5</td>\n",
       "      <td>10.000000</td>\n",
       "    </tr>\n",
       "    <tr>\n",
       "      <th>Philidor Defense</th>\n",
       "      <td>5</td>\n",
       "      <td>8.000000</td>\n",
       "    </tr>\n",
       "    <tr>\n",
       "      <th>Scotch Game</th>\n",
       "      <td>5</td>\n",
       "      <td>6.000000</td>\n",
       "    </tr>\n",
       "    <tr>\n",
       "      <th>Queen's Pawn Game</th>\n",
       "      <td>4</td>\n",
       "      <td>10.000000</td>\n",
       "    </tr>\n",
       "    <tr>\n",
       "      <th>Italian Game: Giuoco Pianissimo, Normal</th>\n",
       "      <td>3</td>\n",
       "      <td>10.000000</td>\n",
       "    </tr>\n",
       "    <tr>\n",
       "      <th>King's Pawn Game: Leonardis Variation</th>\n",
       "      <td>3</td>\n",
       "      <td>9.666667</td>\n",
       "    </tr>\n",
       "    <tr>\n",
       "      <th>Ruy Lopez: Classical Variation, Zukertort Gambit</th>\n",
       "      <td>3</td>\n",
       "      <td>9.000000</td>\n",
       "    </tr>\n",
       "    <tr>\n",
       "      <th>Queen's Pawn Game: Steinitz Countergambit</th>\n",
       "      <td>2</td>\n",
       "      <td>6.000000</td>\n",
       "    </tr>\n",
       "    <tr>\n",
       "      <th>King's Pawn Game: McConnell Defense</th>\n",
       "      <td>2</td>\n",
       "      <td>5.000000</td>\n",
       "    </tr>\n",
       "  </tbody>\n",
       "</table>\n",
       "</div>"
      ],
      "text/plain": [
       "                                                  Opening      Grade\n",
       "Scandinavian Defense: Mieses-Kotroc Variation           5  10.000000\n",
       "Italian Game: Giuoco Piano                              5  10.000000\n",
       "Philidor Defense                                        5   8.000000\n",
       "Scotch Game                                             5   6.000000\n",
       "Queen's Pawn Game                                       4  10.000000\n",
       "Italian Game: Giuoco Pianissimo, Normal                 3  10.000000\n",
       "King's Pawn Game: Leonardis Variation                   3   9.666667\n",
       "Ruy Lopez: Classical Variation, Zukertort Gambit        3   9.000000\n",
       "Queen's Pawn Game: Steinitz Countergambit               2   6.000000\n",
       "King's Pawn Game: McConnell Defense                     2   5.000000"
      ]
     },
     "execution_count": 4,
     "metadata": {},
     "output_type": "execute_result"
    }
   ],
   "source": [
    "username = 'Bong0o'\n",
    "games = lichess.api.user_games(username, max=100, perfType='blitz', analysed=True, opening=True, evals=True)\n",
    "openings, grades = opening_grades(games, username)\n",
    "df = pd.DataFrame(list(zip(openings, grades)), columns =['Opening', 'Grade'])\n",
    "dff = pd.DataFrame(df['Opening'].value_counts())\n",
    "means = []\n",
    "for opening in dff.index:\n",
    "    means.append(df[df['Opening'] == opening].mean().values[0])\n",
    "dff['Grade'] = means\n",
    "dff.head(10)"
   ]
  }
 ],
 "metadata": {
  "kernelspec": {
   "display_name": "Python 3.10.8 ('venv': venv)",
   "language": "python",
   "name": "python3"
  },
  "language_info": {
   "codemirror_mode": {
    "name": "ipython",
    "version": 3
   },
   "file_extension": ".py",
   "mimetype": "text/x-python",
   "name": "python",
   "nbconvert_exporter": "python",
   "pygments_lexer": "ipython3",
   "version": "3.10.8"
  },
  "orig_nbformat": 4,
  "vscode": {
   "interpreter": {
    "hash": "31c990844f1a1b6983ba037dbf7acb183c82116dbb3fb346895d915a706333de"
   }
  }
 },
 "nbformat": 4,
 "nbformat_minor": 2
}
