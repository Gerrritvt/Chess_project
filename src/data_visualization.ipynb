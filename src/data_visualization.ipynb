{
 "cells": [
  {
   "cell_type": "code",
   "execution_count": 1,
   "metadata": {},
   "outputs": [],
   "source": [
    "from datetime import datetime, timedelta\n",
    "import requests\n",
    "import lichess.api\n",
    "import math\n",
    "import re\n",
    "import pandas as pd\n",
    "from functions import opening_grades, grades_history"
   ]
  },
  {
   "cell_type": "code",
   "execution_count": 2,
   "metadata": {},
   "outputs": [
    {
     "name": "stderr",
     "output_type": "stream",
     "text": [
      "C:\\Users\\gerri\\AppData\\Local\\Temp\\ipykernel_20100\\1914124959.py:8: FutureWarning: Dropping of nuisance columns in DataFrame reductions (with 'numeric_only=None') is deprecated; in a future version this will raise TypeError.  Select only valid columns before calling the reduction.\n",
      "  means.append(df[df['Opening'] == opening].mean().values[0])\n"
     ]
    }
   ],
   "source": [
    "username = 'Bong0o'\n",
    "games = lichess.api.user_games(username, max=100, perfType='blitz', analysed=True, opening=True, evals=True)\n",
    "openings, grades = opening_grades(games, username)\n",
    "df = pd.DataFrame(list(zip(openings, grades)), columns =['Opening', 'Grade'])\n",
    "dff = pd.DataFrame(df['Opening'].value_counts())\n",
    "means = []\n",
    "for opening in dff.index:\n",
    "    means.append(df[df['Opening'] == opening].mean().values[0])\n",
    "dff['Grade'] = means\n",
    "dff = dff.rename(columns={\"Opening\":\"Count\"})\n",
    "dff.index.name = \"Opening\"\n",
    "dff = dff[(dff[\"Count\"] >= 5) & (dff[\"Grade\"] < 10)]"
   ]
  },
  {
   "cell_type": "code",
   "execution_count": 3,
   "metadata": {},
   "outputs": [
    {
     "name": "stdout",
     "output_type": "stream",
     "text": [
      "                  Count  Grade\n",
      "Opening                       \n",
      "Scotch Game           5    6.0\n",
      "Philidor Defense      5    8.0\n"
     ]
    }
   ],
   "source": [
    "print(dff.to_string())"
   ]
  },
  {
   "cell_type": "code",
   "execution_count": 5,
   "metadata": {},
   "outputs": [
    {
     "name": "stderr",
     "output_type": "stream",
     "text": [
      "c:\\Python\\Chess_project\\src\\functions.py:203: FutureWarning: Dropping of nuisance columns in DataFrame reductions (with 'numeric_only=None') is deprecated; in a future version this will raise TypeError.  Select only valid columns before calling the reduction.\n",
      "  means.append(df[df['Opening'] == opening].mean().values[0])\n"
     ]
    },
    {
     "data": {
      "text/plain": [
       "\"                                                  Count     Grade\\nOpening                                                          \\nScotch Game                                           5  6.000000\\nPhilidor Defense                                      5  8.000000\\nKing's Pawn Game: Leonardis Variation                 3  9.666667\\nRuy Lopez: Classical Variation, Zukertort Gambit      3  9.000000\\nRuy Lopez: Morphy Defense, Caro Variation             2  7.500000\\nKing's Pawn Game: McConnell Defense                   2  5.000000\\nDanish Gambit                                         2  7.000000\\nRussian Game: Stafford Gambit                         2  7.500000\\nQueen's Pawn Game: Steinitz Countergambit             2  6.000000\\nQueen's Pawn Game: Chigorin Variation                 2  8.500000\\nRuy Lopez: Classical Variation                        2  8.000000\\nRuy Lopez                                             2  5.500000\\nQueen's Gambit Declined                               2  9.000000\""
      ]
     },
     "execution_count": 5,
     "metadata": {},
     "output_type": "execute_result"
    }
   ],
   "source": [
    "games = lichess.api.user_games(username, max=100, perfType='blitz', analysed=True, opening=True, evals=True)\n",
    "grades_history(games, username, min_played=2)"
   ]
  }
 ],
 "metadata": {
  "kernelspec": {
   "display_name": "Python 3.10.8 ('venv': venv)",
   "language": "python",
   "name": "python3"
  },
  "language_info": {
   "codemirror_mode": {
    "name": "ipython",
    "version": 3
   },
   "file_extension": ".py",
   "mimetype": "text/x-python",
   "name": "python",
   "nbconvert_exporter": "python",
   "pygments_lexer": "ipython3",
   "version": "3.10.8"
  },
  "orig_nbformat": 4,
  "vscode": {
   "interpreter": {
    "hash": "95b345cdd834c80ead4111d6262ca8ff90c46963496eeb89f1ab5a6f75cf8271"
   }
  }
 },
 "nbformat": 4,
 "nbformat_minor": 2
}
